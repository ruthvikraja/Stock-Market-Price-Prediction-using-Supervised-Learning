{
 "cells": [
  {
   "cell_type": "markdown",
   "metadata": {
    "id": "St5XBquhprQP"
   },
   "source": [
    "## Advanced Soft Computing Final Project (Deep Learning) ##"
   ]
  },
  {
   "cell_type": "markdown",
   "metadata": {},
   "source": [
    "# Importing libraries"
   ]
  },
  {
   "cell_type": "code",
   "execution_count": 1,
   "metadata": {
    "id": "bVkqGKrkJIad"
   },
   "outputs": [],
   "source": [
    "import numpy as np\n",
    "import pandas as pd\n",
    "from sklearn.preprocessing import MinMaxScaler\n",
    "import matplotlib.pyplot as plt\n",
    "from keras.models import Sequential\n",
    "from keras.layers import Dense\n",
    "from keras.preprocessing.sequence import TimeseriesGenerator\n",
    "import numpy\n",
    "from pandas import read_csv\n",
    "import math\n",
    "from keras.layers import LSTM, GRU\n",
    "from sklearn.metrics import mean_squared_error"
   ]
  },
  {
   "cell_type": "markdown",
   "metadata": {
    "id": "SJC1h0xCpO9f"
   },
   "source": [
    "# Data"
   ]
  },
  {
   "cell_type": "code",
   "execution_count": 2,
   "metadata": {
    "colab": {
     "base_uri": "https://localhost:8080/"
    },
    "id": "5YfKQbF6pR04",
    "outputId": "183c3cd2-6177-4207-ea35-c59d631c8f64"
   },
   "outputs": [
    {
     "name": "stdout",
     "output_type": "stream",
     "text": [
      "Mounted at /drive\n"
     ]
    }
   ],
   "source": [
    "from google.colab import drive\n",
    "drive.mount('/drive')"
   ]
  },
  {
   "cell_type": "markdown",
   "metadata": {
    "id": "twsDBvxDtWqB"
   },
   "source": [
    "### Importing the Data"
   ]
  },
  {
   "cell_type": "code",
   "execution_count": 95,
   "metadata": {
    "colab": {
     "base_uri": "https://localhost:8080/",
     "height": 235
    },
    "id": "vWRyFz675EFB",
    "outputId": "4f31f97f-99ce-4f86-e3c9-2368929e6d38"
   },
   "outputs": [
    {
     "data": {
      "text/html": [
       "<div>\n",
       "<style scoped>\n",
       "    .dataframe tbody tr th:only-of-type {\n",
       "        vertical-align: middle;\n",
       "    }\n",
       "\n",
       "    .dataframe tbody tr th {\n",
       "        vertical-align: top;\n",
       "    }\n",
       "\n",
       "    .dataframe thead th {\n",
       "        text-align: right;\n",
       "    }\n",
       "</style>\n",
       "<table border=\"1\" class=\"dataframe\">\n",
       "  <thead>\n",
       "    <tr style=\"text-align: right;\">\n",
       "      <th></th>\n",
       "      <th>Open</th>\n",
       "      <th>High</th>\n",
       "      <th>Low</th>\n",
       "      <th>Close</th>\n",
       "      <th>Volume</th>\n",
       "    </tr>\n",
       "    <tr>\n",
       "      <th>Date</th>\n",
       "      <th></th>\n",
       "      <th></th>\n",
       "      <th></th>\n",
       "      <th></th>\n",
       "      <th></th>\n",
       "    </tr>\n",
       "  </thead>\n",
       "  <tbody>\n",
       "    <tr>\n",
       "      <th>2012-09-04</th>\n",
       "      <td>604.250000</td>\n",
       "      <td>606.489990</td>\n",
       "      <td>595.000000</td>\n",
       "      <td>596.890015</td>\n",
       "      <td>736200</td>\n",
       "    </tr>\n",
       "    <tr>\n",
       "      <th>2012-09-05</th>\n",
       "      <td>597.500000</td>\n",
       "      <td>601.719971</td>\n",
       "      <td>594.450012</td>\n",
       "      <td>595.179993</td>\n",
       "      <td>480800</td>\n",
       "    </tr>\n",
       "    <tr>\n",
       "      <th>2012-09-06</th>\n",
       "      <td>599.570007</td>\n",
       "      <td>609.239990</td>\n",
       "      <td>597.260010</td>\n",
       "      <td>604.000000</td>\n",
       "      <td>1055600</td>\n",
       "    </tr>\n",
       "    <tr>\n",
       "      <th>2012-09-07</th>\n",
       "      <td>612.500000</td>\n",
       "      <td>622.890015</td>\n",
       "      <td>612.109985</td>\n",
       "      <td>621.549988</td>\n",
       "      <td>1627000</td>\n",
       "    </tr>\n",
       "    <tr>\n",
       "      <th>2012-09-10</th>\n",
       "      <td>620.969971</td>\n",
       "      <td>624.500000</td>\n",
       "      <td>607.460022</td>\n",
       "      <td>608.320007</td>\n",
       "      <td>907700</td>\n",
       "    </tr>\n",
       "  </tbody>\n",
       "</table>\n",
       "</div>"
      ],
      "text/plain": [
       "                  Open        High         Low       Close   Volume\n",
       "Date                                                               \n",
       "2012-09-04  604.250000  606.489990  595.000000  596.890015   736200\n",
       "2012-09-05  597.500000  601.719971  594.450012  595.179993   480800\n",
       "2012-09-06  599.570007  609.239990  597.260010  604.000000  1055600\n",
       "2012-09-07  612.500000  622.890015  612.109985  621.549988  1627000\n",
       "2012-09-10  620.969971  624.500000  607.460022  608.320007   907700"
      ]
     },
     "execution_count": 95,
     "metadata": {
      "tags": []
     },
     "output_type": "execute_result"
    }
   ],
   "source": [
    "# To view the results of a particular company, uncomment the company name path and execute\n",
    "  # the Jupyter file\n",
    "\n",
    "#file_path = '/drive/My Drive/Colab Notebooks/soft_computing/data/IEP.csv'\n",
    "#file_path = '/drive/My Drive/Colab Notebooks/soft_computing/data/AMGN.csv'\n",
    "#file_path = '/drive/My Drive/Colab Notebooks/soft_computing/data/AMZN.csv'\n",
    "#file_path = '/drive/My Drive/Colab Notebooks/soft_computing/data/BA.csv'\n",
    "#file_path = '/drive/My Drive/Colab Notebooks/soft_computing/data/BABA.csv'\n",
    "#file_path = '/drive/My Drive/Colab Notebooks/soft_computing/data/BRK-A.csv'\n",
    "#file_path = '/drive/My Drive/Colab Notebooks/soft_computing/data/CHTR.csv'\n",
    "#file_path = '/drive/My Drive/Colab Notebooks/soft_computing/data/GOOG.csv'\n",
    "#file_path = '/drive/My Drive/Colab Notebooks/soft_computing/data/LMT.csv'\n",
    "file_path = '/drive/My Drive/Colab Notebooks/soft_computing/data/PCLN.csv'\n",
    "\n",
    "df_ge = pd.read_csv(file_path, engine='python').drop(columns=['Adj Close'])\n",
    "df_ge['Date'] =pd.to_datetime(df_ge['Date'])\n",
    "df_ge.set_index('Date', drop=True, inplace=True)\n",
    "target_col = 'Close'\n",
    "x = df_ge[df_ge.columns.drop(['Low', 'Volume'])].values \n",
    "y = df_ge[target_col].values\n",
    "df_ge.head()"
   ]
  },
  {
   "cell_type": "code",
   "execution_count": 96,
   "metadata": {
    "colab": {
     "base_uri": "https://localhost:8080/",
     "height": 450
    },
    "id": "GINaRoxVPlkv",
    "outputId": "0c97099c-fbf3-4419-a141-fbbc7557b945"
   },
   "outputs": [
    {
     "data": {
      "text/html": [
       "<div>\n",
       "<style scoped>\n",
       "    .dataframe tbody tr th:only-of-type {\n",
       "        vertical-align: middle;\n",
       "    }\n",
       "\n",
       "    .dataframe tbody tr th {\n",
       "        vertical-align: top;\n",
       "    }\n",
       "\n",
       "    .dataframe thead th {\n",
       "        text-align: right;\n",
       "    }\n",
       "</style>\n",
       "<table border=\"1\" class=\"dataframe\">\n",
       "  <thead>\n",
       "    <tr style=\"text-align: right;\">\n",
       "      <th></th>\n",
       "      <th>Open</th>\n",
       "      <th>High</th>\n",
       "      <th>Low</th>\n",
       "      <th>Volume</th>\n",
       "      <th>Close</th>\n",
       "    </tr>\n",
       "    <tr>\n",
       "      <th>Date</th>\n",
       "      <th></th>\n",
       "      <th></th>\n",
       "      <th></th>\n",
       "      <th></th>\n",
       "      <th></th>\n",
       "    </tr>\n",
       "  </thead>\n",
       "  <tbody>\n",
       "    <tr>\n",
       "      <th>2012-09-04</th>\n",
       "      <td>604.250000</td>\n",
       "      <td>606.489990</td>\n",
       "      <td>595.000000</td>\n",
       "      <td>736200</td>\n",
       "      <td>596.890015</td>\n",
       "    </tr>\n",
       "    <tr>\n",
       "      <th>2012-09-05</th>\n",
       "      <td>597.500000</td>\n",
       "      <td>601.719971</td>\n",
       "      <td>594.450012</td>\n",
       "      <td>480800</td>\n",
       "      <td>595.179993</td>\n",
       "    </tr>\n",
       "    <tr>\n",
       "      <th>2012-09-06</th>\n",
       "      <td>599.570007</td>\n",
       "      <td>609.239990</td>\n",
       "      <td>597.260010</td>\n",
       "      <td>1055600</td>\n",
       "      <td>604.000000</td>\n",
       "    </tr>\n",
       "    <tr>\n",
       "      <th>2012-09-07</th>\n",
       "      <td>612.500000</td>\n",
       "      <td>622.890015</td>\n",
       "      <td>612.109985</td>\n",
       "      <td>1627000</td>\n",
       "      <td>621.549988</td>\n",
       "    </tr>\n",
       "    <tr>\n",
       "      <th>2012-09-10</th>\n",
       "      <td>620.969971</td>\n",
       "      <td>624.500000</td>\n",
       "      <td>607.460022</td>\n",
       "      <td>907700</td>\n",
       "      <td>608.320007</td>\n",
       "    </tr>\n",
       "    <tr>\n",
       "      <th>...</th>\n",
       "      <td>...</td>\n",
       "      <td>...</td>\n",
       "      <td>...</td>\n",
       "      <td>...</td>\n",
       "      <td>...</td>\n",
       "    </tr>\n",
       "    <tr>\n",
       "      <th>2017-08-28</th>\n",
       "      <td>1800.000000</td>\n",
       "      <td>1805.000000</td>\n",
       "      <td>1782.449951</td>\n",
       "      <td>485800</td>\n",
       "      <td>1789.910034</td>\n",
       "    </tr>\n",
       "    <tr>\n",
       "      <th>2017-08-29</th>\n",
       "      <td>1775.900024</td>\n",
       "      <td>1811.000000</td>\n",
       "      <td>1774.400024</td>\n",
       "      <td>488800</td>\n",
       "      <td>1807.060059</td>\n",
       "    </tr>\n",
       "    <tr>\n",
       "      <th>2017-08-30</th>\n",
       "      <td>1809.099976</td>\n",
       "      <td>1818.800049</td>\n",
       "      <td>1808.150024</td>\n",
       "      <td>333400</td>\n",
       "      <td>1813.000000</td>\n",
       "    </tr>\n",
       "    <tr>\n",
       "      <th>2017-08-31</th>\n",
       "      <td>1821.819946</td>\n",
       "      <td>1856.349976</td>\n",
       "      <td>1817.260010</td>\n",
       "      <td>532100</td>\n",
       "      <td>1852.079956</td>\n",
       "    </tr>\n",
       "    <tr>\n",
       "      <th>2017-09-01</th>\n",
       "      <td>1858.560059</td>\n",
       "      <td>1867.489990</td>\n",
       "      <td>1848.550049</td>\n",
       "      <td>377600</td>\n",
       "      <td>1850.819946</td>\n",
       "    </tr>\n",
       "  </tbody>\n",
       "</table>\n",
       "<p>1258 rows × 5 columns</p>\n",
       "</div>"
      ],
      "text/plain": [
       "                   Open         High          Low   Volume        Close\n",
       "Date                                                                   \n",
       "2012-09-04   604.250000   606.489990   595.000000   736200   596.890015\n",
       "2012-09-05   597.500000   601.719971   594.450012   480800   595.179993\n",
       "2012-09-06   599.570007   609.239990   597.260010  1055600   604.000000\n",
       "2012-09-07   612.500000   622.890015   612.109985  1627000   621.549988\n",
       "2012-09-10   620.969971   624.500000   607.460022   907700   608.320007\n",
       "...                 ...          ...          ...      ...          ...\n",
       "2017-08-28  1800.000000  1805.000000  1782.449951   485800  1789.910034\n",
       "2017-08-29  1775.900024  1811.000000  1774.400024   488800  1807.060059\n",
       "2017-08-30  1809.099976  1818.800049  1808.150024   333400  1813.000000\n",
       "2017-08-31  1821.819946  1856.349976  1817.260010   532100  1852.079956\n",
       "2017-09-01  1858.560059  1867.489990  1848.550049   377600  1850.819946\n",
       "\n",
       "[1258 rows x 5 columns]"
      ]
     },
     "execution_count": 96,
     "metadata": {
      "tags": []
     },
     "output_type": "execute_result"
    }
   ],
   "source": [
    "df_ordered = df_ge[['Open', 'High', 'Low', 'Volume', 'Close']]\n",
    "df_ordered"
   ]
  },
  {
   "cell_type": "code",
   "execution_count": 97,
   "metadata": {
    "colab": {
     "base_uri": "https://localhost:8080/",
     "height": 295
    },
    "id": "6_3LcNIU9kP_",
    "outputId": "587346d1-318c-449a-cf46-8aa2c6c80d2a"
   },
   "outputs": [
    {
     "data": {
      "image/png": "[encoded data removed]",
      "text/plain": [
       "<Figure size 432x288 with 1 Axes>"
      ]
     },
     "metadata": {
      "needs_background": "light",
      "tags": []
     },
     "output_type": "display_data"
    }
   ],
   "source": [
    "plt.figure()\n",
    "plt.plot(df_ordered[\"Open\"])\n",
    "plt.plot(df_ordered[\"High\"])\n",
    "plt.plot(df_ordered[\"Low\"])\n",
    "plt.plot(df_ordered[\"Close\"])\n",
    "plt.title('Apple stock price history')\n",
    "plt.ylabel('Price (USD)')\n",
    "plt.xlabel('Days')\n",
    "plt.legend(['Open','High','Low','Close'], loc='upper left')\n",
    "plt.show()"
   ]
  },
  {
   "cell_type": "code",
   "execution_count": 98,
   "metadata": {
    "colab": {
     "base_uri": "https://localhost:8080/",
     "height": 295
    },
    "id": "LfM6Y2JCnd6B",
    "outputId": "4a2ea2b4-3cbc-4c2c-8a2c-552593c48a6b"
   },
   "outputs": [
    {
     "data": {
      "image/png": "[encoded data removed]",
      "text/plain": [
       "<Figure size 432x288 with 1 Axes>"
      ]
     },
     "metadata": {
      "needs_background": "light",
      "tags": []
     },
     "output_type": "display_data"
    }
   ],
   "source": [
    "plt.figure()\n",
    "plt.plot(df_ordered[\"Volume\"])\n",
    "plt.title('Apple stock volume history')\n",
    "plt.ylabel('Volume')\n",
    "plt.xlabel('Days')\n",
    "plt.show()"
   ]
  },
  {
   "cell_type": "code",
   "execution_count": 99,
   "metadata": {
    "id": "PK1eMs7Bnmb5"
   },
   "outputs": [],
   "source": [
    "# Function to convert an array of values into a dataset matrix\n",
    "\n",
    "def create_dataset(dataset, target_col_index, look_back=1):\n",
    "\tdataX, dataY = [], []\n",
    "\tfor i in range(len(dataset)-look_back-1):\n",
    "\t\ta = dataset[i:(i+look_back), :]\n",
    "\t\tdataX.append(a)\n",
    "\t\tdataY.append(dataset[i + look_back, target_col_index])\n",
    "\n",
    "\treturn numpy.array(dataX), numpy.array(dataY)\n",
    " \n",
    "\n",
    "def dataset_scaling(df_ordered, target_col_index):\n",
    "  dataset = df_ordered.values\n",
    "  dataset = dataset.astype('float32')\n",
    "\n",
    "  # Scaling dataset\n",
    "  \n",
    "  scaler_X = MinMaxScaler(feature_range=(0, 1))\n",
    "  scaler_Y = MinMaxScaler(feature_range=(0, 1))\n",
    "\n",
    "  dataset_X =  np.delete(dataset, target_col_index, 1)\n",
    "  dataset_Y = dataset[:,target_col_index].reshape(-1, 1)\n",
    "\n",
    "  dataset_X = scaler_X.fit_transform(dataset_X)\n",
    "  dataset_Y = scaler_Y.fit_transform(dataset_Y)\n",
    "\n",
    "  dataset = np.concatenate((dataset_X, dataset_Y), axis=1)\n",
    "\n",
    "  return dataset, scaler_X, scaler_Y\n",
    "\n",
    "def train_predict(dataset, target_col_index, look_back, network_type):\n",
    "\n",
    "  # Splitting the Dataset\n",
    "  train_size = int(len(dataset) * 0.67)\n",
    "  test_size = len(dataset) - train_size\n",
    "  train, test = dataset[0:train_size,:], dataset[train_size:len(dataset),:]\n",
    "  \n",
    "  # Reshaping X=t and Y=t+1\n",
    "  trainX, trainY = create_dataset(train, target_col_index, look_back)\n",
    "\n",
    "  testX, testY = create_dataset(test, target_col_index, look_back)\n",
    "\n",
    "  # Fitting the LSTM network\n",
    "  n_neurons = 4\n",
    "  model = Sequential()\n",
    "\n",
    "  if network_type == 'GRU':\n",
    "    model.add(GRU(n_neurons, input_shape=(trainX.shape[1], trainX.shape[2])))\n",
    "  if network_type == 'LSTM':\n",
    "    model.add(LSTM(n_neurons, input_shape=(trainX.shape[1], trainX.shape[2])))\n",
    "\n",
    "  model.add(Dense(1))\n",
    "  model.compile(loss='mean_squared_error', optimizer='adam')\n",
    "  model.fit(trainX, trainY, epochs=10, batch_size=1, verbose=2)\n",
    "  \n",
    "  # Predicting the values\n",
    "  trainPredict = model.predict(trainX)\n",
    "  testPredict = model.predict(testX)\n",
    "\n",
    "  # Inverting the Predictions\n",
    "  trainPredict = scaler_Y.inverse_transform(trainPredict)\n",
    "  trainY = scaler_Y.inverse_transform(trainY.reshape(-1, 1))\n",
    "  testPredict = scaler_Y.inverse_transform(testPredict)\n",
    "  testY = scaler_Y.inverse_transform(testY.reshape(-1, 1))\n",
    "\n",
    "  return trainY, trainPredict, testY, testPredict\n"
   ]
  },
  {
   "cell_type": "code",
   "execution_count": 100,
   "metadata": {
    "id": "_NrZtgZ3s8za"
   },
   "outputs": [],
   "source": [
    "target_col_index = 4\n",
    "look_back = 1\n",
    "dataset, scaler_X, scaler_Y = dataset_scaling(df_ordered, target_col_index)"
   ]
  },
  {
   "cell_type": "code",
   "execution_count": 101,
   "metadata": {
    "colab": {
     "base_uri": "https://localhost:8080/"
    },
    "id": "ALWDl4SdHrVv",
    "outputId": "9361f720-2f1d-4839-e799-5953689dc145"
   },
   "outputs": [
    {
     "name": "stdout",
     "output_type": "stream",
     "text": [
      "Epoch 1/10\n",
      "840/840 - 3s - loss: 0.0105\n",
      "Epoch 2/10\n",
      "840/840 - 1s - loss: 2.8282e-04\n",
      "Epoch 3/10\n",
      "840/840 - 1s - loss: 2.1396e-04\n",
      "Epoch 4/10\n",
      "840/840 - 1s - loss: 2.1561e-04\n",
      "Epoch 5/10\n",
      "840/840 - 1s - loss: 2.1361e-04\n",
      "Epoch 6/10\n",
      "840/840 - 1s - loss: 2.0548e-04\n",
      "Epoch 7/10\n",
      "840/840 - 1s - loss: 2.0545e-04\n",
      "Epoch 8/10\n",
      "840/840 - 1s - loss: 2.1296e-04\n",
      "Epoch 9/10\n",
      "840/840 - 1s - loss: 2.0793e-04\n",
      "Epoch 10/10\n",
      "840/840 - 1s - loss: 2.0895e-04\n",
      "Train Score: 20.56 RMSE\n",
      "Test Score: 86.97 RMSE\n"
     ]
    }
   ],
   "source": [
    "# LSTM\n",
    "network_type = 'LSTM'\n",
    "trainY_lstm, trainPredict_lstm, testY_lstm, testPredict_lstm = train_predict(dataset, target_col_index,look_back, network_type)\n",
    "\n",
    "# Root Mean Squared Error (RMSE)\n",
    "trainScore = math.sqrt(mean_squared_error(trainY_lstm, trainPredict_lstm[:,0]))\n",
    "print('Train Score: %.2f RMSE' % (trainScore))\n",
    "testScore = math.sqrt(mean_squared_error(testY_lstm, testPredict_lstm[:,0]))\n",
    "print('Test Score: %.2f RMSE' % (testScore))\n"
   ]
  },
  {
   "cell_type": "code",
   "execution_count": 102,
   "metadata": {
    "colab": {
     "base_uri": "https://localhost:8080/"
    },
    "id": "g1N9PMggy3ER",
    "outputId": "d58b2908-6b2e-4e2a-d832-a0289b8b6ba5"
   },
   "outputs": [
    {
     "name": "stdout",
     "output_type": "stream",
     "text": [
      "Epoch 1/10\n",
      "840/840 - 3s - loss: 0.0034\n",
      "Epoch 2/10\n",
      "840/840 - 1s - loss: 2.4044e-04\n",
      "Epoch 3/10\n",
      "840/840 - 1s - loss: 2.5123e-04\n",
      "Epoch 4/10\n",
      "840/840 - 1s - loss: 2.4133e-04\n",
      "Epoch 5/10\n",
      "840/840 - 1s - loss: 2.3493e-04\n",
      "Epoch 6/10\n",
      "840/840 - 1s - loss: 2.3711e-04\n",
      "Epoch 7/10\n",
      "840/840 - 1s - loss: 2.4406e-04\n",
      "Epoch 8/10\n",
      "840/840 - 1s - loss: 2.3689e-04\n",
      "Epoch 9/10\n",
      "840/840 - 1s - loss: 2.2489e-04\n",
      "Epoch 10/10\n",
      "840/840 - 1s - loss: 2.2843e-04\n",
      "Train Score: 20.86 RMSE\n",
      "Test Score: 44.04 RMSE\n"
     ]
    }
   ],
   "source": [
    "# GRU\n",
    "network_type = 'GRU'\n",
    "trainY_gru, trainPredict_gru, testY_gru, testPredict_gru = train_predict(dataset, target_col_index, look_back, network_type)\n",
    "\n",
    "# Root Mean Squared Error (RMSE)\n",
    "trainScore = math.sqrt(mean_squared_error(trainY_gru, trainPredict_gru[:,0]))\n",
    "print('Train Score: %.2f RMSE' % (trainScore))\n",
    "testScore = math.sqrt(mean_squared_error(testY_gru, testPredict_gru[:,0]))\n",
    "print('Test Score: %.2f RMSE' % (testScore))"
   ]
  },
  {
   "cell_type": "code",
   "execution_count": 103,
   "metadata": {
    "colab": {
     "base_uri": "https://localhost:8080/"
    },
    "id": "0hm-VUL20tc2",
    "outputId": "f68f8781-cac7-4337-de16-e50f6da5a6c6"
   },
   "outputs": [
    {
     "name": "stdout",
     "output_type": "stream",
     "text": [
      "Train Score: 10.43 RMSE\n",
      "Test Score: 64.70 RMSE\n"
     ]
    }
   ],
   "source": [
    "# Ensemble Learning\n",
    "trainY = (trainY_gru+ trainPredict_lstm)/2\n",
    "trainPredict = (trainPredict_gru+trainPredict_lstm)/2\n",
    "testY = (testY_gru+testY_lstm)/2\n",
    "testPredict = (testPredict_gru+testPredict_lstm)/2\n",
    "\n",
    "# Root Mean Squared Error (RMSE)\n",
    "trainScore = math.sqrt(mean_squared_error(trainY, trainPredict[:,0]))\n",
    "print('Train Score: %.2f RMSE' % (trainScore))\n",
    "testScore = math.sqrt(mean_squared_error(testY, testPredict[:,0]))\n",
    "print('Test Score: %.2f RMSE' % (testScore))"
   ]
  },
  {
   "cell_type": "code",
   "execution_count": 104,
   "metadata": {
    "colab": {
     "base_uri": "https://localhost:8080/",
     "height": 265
    },
    "id": "pNUQ87DhtFLw",
    "outputId": "83996edd-ec4a-4ce5-e431-e18caf38e151"
   },
   "outputs": [
    {
     "data": {
      "image/png": "[encoded data removed]",
      "text/plain": [
       "<Figure size 432x288 with 1 Axes>"
      ]
     },
     "metadata": {
      "needs_background": "light",
      "tags": []
     },
     "output_type": "display_data"
    }
   ],
   "source": [
    "# Shifting the train predictions for plotting\n",
    "trainPredictPlot = numpy.empty_like(dataset)\n",
    "trainPredictPlot[:, :] = numpy.nan\n",
    "trainPredictPlot[look_back:len(trainPredict)+look_back, :] = trainPredict\n",
    "\n",
    "# Shifting the test predictions for plotting\n",
    "testPredictPlot = numpy.empty_like(dataset)\n",
    "testPredictPlot[:, :] = numpy.nan\n",
    "testPredictPlot[len(trainPredict)+(look_back*2)+1:len(dataset)-1, :] = testPredict\n",
    "\n",
    "# Plotting baseline and predictions\n",
    "plt.plot(scaler_Y.inverse_transform(dataset[:,target_col_index].reshape(-1,1)))\n",
    "plt.plot(trainPredictPlot[:,target_col_index])\n",
    "plt.plot(testPredictPlot[:,target_col_index])\n",
    "plt.show()\n"
   ]
  },
  {
   "cell_type": "markdown",
   "metadata": {},
   "source": [
    "################################################################################"
   ]
  }
 ],
 "metadata": {
  "colab": {
   "collapsed_sections": [],
   "name": "Copy of final_project_v2.ipynb",
   "provenance": []
  },
  "kernelspec": {
   "display_name": "Python 3",
   "language": "python",
   "name": "python3"
  },
  "language_info": {
   "codemirror_mode": {
    "name": "ipython",
    "version": 3
   },
   "file_extension": ".py",
   "mimetype": "text/x-python",
   "name": "python",
   "nbconvert_exporter": "python",
   "pygments_lexer": "ipython3",
   "version": "3.8.3"
  }
 },
 "nbformat": 4,
 "nbformat_minor": 1
}
